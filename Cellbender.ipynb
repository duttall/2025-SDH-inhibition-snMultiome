{
 "cells": [
  {
   "cell_type": "code",
   "execution_count": null,
   "id": "9ea0e015-2be2-4dd2-8978-b9eebd8b5ff3",
   "metadata": {},
   "outputs": [],
   "source": [
    "##Cellbender Ambient RNA Removal"
   ]
  },
  {
   "cell_type": "code",
   "execution_count": null,
   "id": "6c0abacc-3586-47ec-9e44-84f07c27e838",
   "metadata": {},
   "outputs": [],
   "source": [
    "#Recomend using Conda environment to isntall cellbender\n",
    "conda create -n cellbender python=3.7\n",
    "conda activate cellbender\n",
    "pip install cellbender"
   ]
  },
  {
   "cell_type": "code",
   "execution_count": null,
   "id": "506770e1-f1a1-433c-a17e-80f326130a2e",
   "metadata": {},
   "outputs": [],
   "source": [
    "##Run Cellbender\n",
    "# We used the UMI curve in the web_summary.html output from Cellranger to estimate --expected-cells and  --total-droplets (Note: droplets just need to be more than the expected cells and having more only increases run time so we used 25000 droplets for all samples)\n",
    "# We highlyrecomend having a Cuda compatible system to improve speed\n",
    "\n",
    "cellbender remove-background --cuda --input sample_raw_feature_bc_matrix.h5 --output out/sample_CBfiltered_feature_bc_matrix.h5  --expected-cells [i]  --low-count-threshold 15 --total-droplets-included 25000 --epochs 20"
   ]
  }
 ],
 "metadata": {
  "kernelspec": {
   "display_name": "Python 3 (ipykernel)",
   "language": "python",
   "name": "python3"
  },
  "language_info": {
   "codemirror_mode": {
    "name": "ipython",
    "version": 3
   },
   "file_extension": ".py",
   "mimetype": "text/x-python",
   "name": "python",
   "nbconvert_exporter": "python",
   "pygments_lexer": "ipython3",
   "version": "3.11.7"
  }
 },
 "nbformat": 4,
 "nbformat_minor": 5
}
